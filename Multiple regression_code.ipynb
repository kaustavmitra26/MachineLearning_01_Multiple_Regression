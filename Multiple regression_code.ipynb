#import libraries
import pandas as pd
import numpy as np
import matplotlib.pyplot as plt
#import dataset
data=pd.read_csv("50_Startups.csv")
X=data.iloc[:,:-1].values
Y=data.iloc[:,-1].values

from sklearn.preprocessing import LabelEncoder
labelencoder_X=LabelEncoder()
X[:,3]=labelencoder_X.fit_transform(X[:,3])

from sklearn.preprocessing import OneHotEncoder
onehotencoder=OneHotEncoder(categorical_features=[3])
X=onehotencoder.fit_transform(X).toarray()
X=X[:,1:]

from sklearn.model_selection import train_test_split
x_train,x_test,y_train,y_test=train_test_split(X,Y,test_size=0.2,random_state=42)

from sklearn.linear_model import LinearRegression
regressor= LinearRegression()
regressor.fit(x_train,y_train)
y_pred=regressor.predict(x_test)

import seaborn as sns
sns.distplot(y_pred, hist=False,color='red')
sns.distplot(y_test, hist=False,color='green')
plt.show()

import statsmodels.formula.api as sm
X=np.append(values=X,arr=np.ones((50,1)).astype(int),axis=1)
X_opt=X[:,[0,1,2,3,4,5]]
regressor_ols=sm.OLS(endog=Y,exog=X_opt).fit()
print(regressor_ols.summary())

X_opt=X[:,[0,1,3,4,5]]
regressor_ols=sm.OLS(endog=Y,exog=X_opt).fit()
print(regressor_ols.summary())

X_opt=X[:,[0,3,4,5]]
regressor_ols=sm.OLS(endog=Y,exog=X_opt).fit()
print(regressor_ols.summary())

X_opt=X[:,[0,3,5]]
regressor_ols=sm.OLS(endog=Y,exog=X_opt).fit()
print(regressor_ols.summary())

X_opt=X[:,[0,3]]
regressor_ols=sm.OLS(endog=Y,exog=X_opt).fit()
print(regressor_ols.summary())
